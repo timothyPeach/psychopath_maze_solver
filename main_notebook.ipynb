{
 "cells": [
  {
   "cell_type": "markdown",
   "metadata": {},
   "source": [
    "### Solving Psychopath Mazes!\n",
    "\n",
    "There's a really interesting maze game that was published in 2005.  It's called Psychopath.\n",
    "\n",
    "Check it out here!:\n",
    "http://www.k2xl.com/games/psychopath/index2.php\n",
    "\n",
    "#Unfortunately, as of writing, it is impossible to register for this version, so if you don't have an account, it's going to be really aggravating trying to keep your progress saved.  That said, if you already have an account, this is the coolest version to play the game on and you should stick with it.\n",
    "\n",
    "#However, if not, you can register for psychopath2... and you'll have access to all of the Psychopath 1 levels and can see any levels that I am talking about...\n",
    "\n",
    "http://www.k2xl.com/games/psychopath2/\n",
    "\n",
    "\n",
    "As of writing, only 39 users have cleared all of the levels in the original game.  This is partly due to the fact that it is impossible to register as of a few years ago.  \n",
    "\n",
    "I am one of the people who has cleared all the levels, and while it's interesting to solve a bunch of mazes using logic and intuition as a person, I'm excited to attempt what I believe to be far more difficult -- writing a bot that could also beat all of the levels.\n",
    "\n",
    "The first few levels aren't all that interesting and are just like a regular maze that a mouse might\n",
    "learn to solve in its search for cheese or peanut butter, but in the double digits, ESPECIALLY around level 30,\n",
    "things get extremely interesting due to the addition of movable blocks."
   ]
  },
  {
   "cell_type": "markdown",
   "metadata": {},
   "source": [
    "Below is the code for the solver itself.  Scrolling down all the way past that, I will be covering how it solves certain types of levels.  To begin reading that part, search for ###Beginning"
   ]
  },
  {
   "cell_type": "code",
   "execution_count": 2,
   "metadata": {
    "collapsed": true
   },
   "outputs": [],
   "source": [
    "import numpy as np\n",
    "from copy import copy"
   ]
  },
  {
   "cell_type": "code",
   "execution_count": 4,
   "metadata": {
    "collapsed": true
   },
   "outputs": [],
   "source": [
    "class Maze:\n",
    "    \n",
    "    def __init__(self,level=1):\n",
    "        self.level = level\n",
    "        self.win = False\n",
    "        self.exits,self.player_position,self.obstructions,self.movable_blocks,\\\n",
    "        self.width,self.height,self.solution_moves,self.maze =\\\n",
    "        self.load_maze_from_file(level)\n",
    "        \n",
    "    def print_maze(self,small=True):\n",
    "        if small:\n",
    "            for x in self.maze:\n",
    "                print(\"\".join(x))\n",
    "        else:\n",
    "            for x in self.maze:\n",
    "                print(x)\n",
    "    \n",
    "    def load_maze_from_file(self,level=1):\n",
    "        with open(\"maps/{}.txt\".format(level)) as file:\n",
    "            lines = [x.strip() for x in file.readlines()]\n",
    "        #print(lines) \n",
    "        width,height = [int(x) for x in lines[0].split()]\n",
    "        #print(width,height) \n",
    "        solution_moves = int(lines[1])\n",
    "        #print(solution_moves)\n",
    "        board = [] \n",
    "        idx = 2\n",
    "        for _ in range(height):\n",
    "            board.append(list(lines[idx]))\n",
    "            idx += 1\n",
    "            \n",
    "        exits = []\n",
    "        obstructions = False\n",
    "        movable_blocks = False\n",
    "        for row in range(height):\n",
    "            for col in range(width):\n",
    "                if board[row][col] == \"u\":\n",
    "                    player_position = [row,col]\n",
    "                elif board[row][col] == \"e\":\n",
    "                    exits.append([row,col])\n",
    "                elif board[row][col] == \"p\":\n",
    "                    obstructions = True\n",
    "                    movable_blocks = True\n",
    "                elif board[row][col] == \"x\":\n",
    "                    obstructions = True\n",
    "\n",
    "        return exits,np.array(player_position),obstructions,movable_blocks,width,height,solution_moves,board\n",
    "\n",
    "    def move_player(self,direction):\n",
    "        '''\n",
    "        returns False if could not move that way\n",
    "        returns True if moved that way.  Maze will be updated afterwards.\n",
    "        '''\n",
    "        \n",
    "        if direction == \"L\":\n",
    "            updates = [0,-1]\n",
    "        elif direction == \"R\":\n",
    "            updates = [0,1]\n",
    "        elif direction == \"U\":\n",
    "            updates = [-1,0]\n",
    "        elif direction == \"D\":\n",
    "            updates = [1,0]\n",
    "        \n",
    "        destination = self.player_position + updates\n",
    "        after_dest = destination + updates\n",
    "        #print(destination)\n",
    "        #print(after_dest)\n",
    "        obj_at_dest = self.maze[destination[0]][destination[1]]\n",
    "        obj_after_dest = self.maze[after_dest[0]][after_dest[1]]\n",
    "        #print(obj_at_dest)\n",
    "        #print(obj_after_dest)\n",
    "        \n",
    "        def obj_swap_code(pos1,pos2,player_pos1=True,win=False,covering_exit=False):\n",
    "            if player_pos1:\n",
    "                self.player_position = pos2\n",
    "            if win:\n",
    "                self.maze[pos1[0]][pos1[1]] = \"_\"\n",
    "                self.maze[pos2[0]][pos2[1]] = \"W\"\n",
    "            elif covering_exit:\n",
    "                #should be entered as destination,after_dest\n",
    "                self.maze[pos1[0]][pos1[1]] = \"_\"\n",
    "                self.maze[pos2[0]][pos2[1]] = \"P\"\n",
    "            else:\n",
    "                self.maze[pos1[0]][pos1[1]],self.maze[pos2[0]][pos2[1]] =\\\n",
    "                self.maze[pos2[0]][pos2[1]],self.maze[pos1[0]][pos1[1]] \n",
    "                \n",
    "        #self.print_maze() \n",
    "        \n",
    "        #player wants to move into empty space\n",
    "        if obj_at_dest == \"_\":\n",
    "            obj_swap_code(self.player_position,destination)\n",
    "            return True\n",
    "        \n",
    "        #player attempts to move into a wall\n",
    "        elif obj_at_dest in [\"x\",\"X\"]:\n",
    "            return False\n",
    "        \n",
    "        #player wants to move to visible exit and win the game\n",
    "        elif obj_at_dest == \"e\":\n",
    "            self.win = True\n",
    "            obj_swap_code(self.player_position,destination,win=True)\n",
    "            return True\n",
    "        \n",
    "        #player wants to move to where a regular movable block is\n",
    "        elif obj_at_dest == \"p\":\n",
    "            if obj_after_dest == \"_\":\n",
    "                obj_swap_code(destination,after_dest,player_pos1=False)\n",
    "                obj_swap_code(self.player_position,destination)\n",
    "                return True\n",
    "            elif obj_after_dest == \"e\":\n",
    "                obj_swap_code(destination,after_dest,player_pos1=False,covering_exit=True)\n",
    "                obj_swap_code(self.player_position,destination)\n",
    "                return True\n",
    "            elif obj_after_dest in [\"p\",\"P\",\"x\",\"X\"]:\n",
    "                return False\n",
    "            \n",
    "        #player wants to move to where a movable block that is covering an exit is\n",
    "        elif obj_at_dest == \"P\":\n",
    "            if obj_after_dest in [\"_\",\"e\"]:\n",
    "                self.win = True\n",
    "                obj_swap_code(self.player_position,destination,win=True)\n",
    "                return True\n",
    "            elif obj_after_dest in [\"p\",\"P\",\"x\",\"X\"]:\n",
    "                return False\n",
    "            \n",
    "    def get_maze_without_movable_blocks(self):\n",
    "        mz = Maze(self.level)\n",
    "        for row in range(mz.height):\n",
    "            for col in range(mz.width):\n",
    "                if mz.maze[row][col] == \"p\":\n",
    "                    mz.maze[row][col] = \"_\"\n",
    "        return mz\n",
    "            \n",
    "    def check_win_from_list(self,move_list):\n",
    "        '''takes a list of moves and tells you if you have found a solution to the maze\n",
    "        example list [\"L\",\"L\",\"U\",\"L\",\"L\",\"L\",\"D\",\"R\"]\n",
    "        (left left up left left left down right)'''\n",
    "        mz = Maze(self.level)\n",
    "        if len(move_list) != mz.solution_moves:\n",
    "            return False\n",
    "        else:\n",
    "            moves_made = 0\n",
    "            max_moves = mz.solution_moves\n",
    "            while moves_made != mz.solution_moves:\n",
    "                move_made = mz.move_player(move_list[moves_made])\n",
    "                if not move_made:\n",
    "                    break\n",
    "                moves_made += 1\n",
    "            return mz.win\n",
    "                "
   ]
  },
  {
   "cell_type": "code",
   "execution_count": 5,
   "metadata": {
    "collapsed": true
   },
   "outputs": [],
   "source": [
    "class Pathfinder:\n",
    "    \n",
    "    def __init__(self):\n",
    "        pass\n",
    "    \n",
    "    def solve_maze(self,maze):\n",
    "        if not maze.obstructions:\n",
    "            return self.noobs_path(maze)\n",
    "        elif not maze.movable_blocks:\n",
    "            return self.bfs_path(maze)\n",
    "        else: #hard one with movable blocks\n",
    "            pass\n",
    "    \n",
    "    def noobs_path(self,maze):\n",
    "        start = maze.player_position #[2,7]\n",
    "        end = maze.exits[0]\n",
    "\n",
    "        movement = end-start\n",
    "        #print(movement,movement[0],movement[1])\n",
    "        output = []\n",
    "        if movement[0] > 0:\n",
    "            output += [\"D\"]*movement[0]\n",
    "        elif movement[0] < 0:\n",
    "            output += [\"U\"]*abs(movement[0])\n",
    "        #print(output)\n",
    "        if movement[1] > 0:\n",
    "            output += [\"R\"]*movement[1]\n",
    "        elif movement[1] < 0:\n",
    "            output += [\"L\"]*abs(movement[1])\n",
    "        #print(output)\n",
    "\n",
    "        return output\n",
    "    \n",
    "    def bfs_path(self,mz):\n",
    "\n",
    "        ################# creating graph structure\n",
    "        connections = {}\n",
    "\n",
    "        reachable = [\"_\",\"u\",\"e\"]\n",
    "\n",
    "        for row in range(mz.height):\n",
    "            for col in range(mz.width):\n",
    "                if mz.maze[row][col] in reachable:\n",
    "                    loc = np.array([row,col])\n",
    "                    connected_to = []\n",
    "                    updates = [[0,-1],[0,1],[-1,0],[1,0]]\n",
    "                    for update in updates:\n",
    "                        conn = loc + update\n",
    "                        if mz.maze[conn[0]][conn[1]] in reachable:\n",
    "                            connected_to.append(tuple(conn))\n",
    "                    connections[tuple(loc)] = connected_to\n",
    "\n",
    "        #print(connections[tuple(mz.player_position)]) \n",
    "        #print(connections[(3, 8)])  \n",
    "\n",
    "\n",
    "        ############### bfs'ing to get nodes at all distances from start\n",
    "        start = tuple(mz.player_position) \n",
    "        end = tuple(mz.exits[0]) \n",
    "        #print(start) \n",
    "        #print(end) \n",
    "\n",
    "\n",
    "        visited = {start}\n",
    "        to_explore = set(connections[start])\n",
    "        #print(visited)\n",
    "        #print(to_explore) \n",
    "\n",
    "        layers = {}\n",
    "        layers[0] = {start}\n",
    "        layers[1] = set(connections[start])\n",
    "\n",
    "        layer_counter = 2\n",
    "        while True:\n",
    "            nx_layer = set()\n",
    "            while True:\n",
    "                nx = to_explore.pop()\n",
    "                for conn in connections[nx]:\n",
    "                    if conn not in visited:\n",
    "                        visited.add(conn)\n",
    "                        nx_layer.add(conn)\n",
    "                layers[layer_counter] = nx_layer\n",
    "                if len(to_explore) == 0:\n",
    "                    to_explore = copy(nx_layer)\n",
    "                    layer_counter += 1\n",
    "                    break\n",
    "            if end in to_explore:\n",
    "                break\n",
    "\n",
    "        #From this layer until reached layers[0], we can look for nodes that the exit is connected to all the way up,\n",
    "        # and it should find a path upward.\n",
    "        #print(layers[mz.solution_moves-1]) \n",
    "\n",
    "        #print(layers) \n",
    "\n",
    "        ############backtracking from end to get path\n",
    "\n",
    "        layer_counter = mz.solution_moves\n",
    "        current_position = end\n",
    "\n",
    "        output = []\n",
    "        layer_counter -= 1\n",
    "        #print(\"init_LC\",layer_counter)\n",
    "        while layer_counter != -1:\n",
    "            nx_layer = layers[layer_counter]\n",
    "            for conn in connections[current_position]:\n",
    "                if conn in nx_layer:\n",
    "                    nx_position = conn\n",
    "                    break\n",
    "            #print(current_position,layer_counter,layers[layer_counter])\n",
    "            movement = tuple(np.array(nx_position)-current_position)\n",
    "            mov_dict = {(0,1):\"L\",(0,-1):\"R\",(1,0):\"U\",(-1,0):\"D\"}\n",
    "            output.append(mov_dict[movement])\n",
    "            current_position = nx_position\n",
    "            layer_counter -= 1\n",
    "\n",
    "        output.reverse()\n",
    "        return output\n",
    "    \n",
    "    def cheese_bfs(self,mz):\n",
    "        cheese_maze = mz.get_maze_without_movable_blocks()\n",
    "        output = self.bfs_path(cheese_maze)\n",
    "        return output"
   ]
  },
  {
   "cell_type": "markdown",
   "metadata": {},
   "source": [
    "### ###Beginning -- Maps with no obstructions"
   ]
  },
  {
   "cell_type": "code",
   "execution_count": 6,
   "metadata": {},
   "outputs": [
    {
     "data": {
      "text/plain": [
       "[['X', 'X', 'X', 'X', 'X', 'X', 'X', 'X', 'X', 'X'],\n",
       " ['X', '_', '_', '_', '_', '_', '_', '_', '_', 'X'],\n",
       " ['X', '_', '_', '_', '_', '_', '_', 'u', '_', 'X'],\n",
       " ['X', '_', '_', '_', '_', '_', '_', '_', '_', 'X'],\n",
       " ['X', '_', '_', '_', '_', '_', '_', '_', '_', 'X'],\n",
       " ['X', '_', 'e', '_', '_', '_', '_', '_', '_', 'X'],\n",
       " ['X', '_', '_', '_', '_', '_', '_', '_', '_', 'X'],\n",
       " ['X', 'X', 'X', 'X', 'X', 'X', 'X', 'X', 'X', 'X']]"
      ]
     },
     "execution_count": 6,
     "metadata": {},
     "output_type": "execute_result"
    }
   ],
   "source": [
    "Maze().maze"
   ]
  },
  {
   "cell_type": "markdown",
   "metadata": {},
   "source": [
    "This is what level 1 of Psychopath looks like.  While it is impossible to exit the \"maze\" by trying to move past the edges, there is nothing that could potentially obstruct any shortest manhattan path from 'u' from the exit 'e'.\n",
    "\n",
    "This means that a path is really simple to figure out."
   ]
  },
  {
   "cell_type": "code",
   "execution_count": 7,
   "metadata": {},
   "outputs": [
    {
     "name": "stdout",
     "output_type": "stream",
     "text": [
      "['X', 'X', 'X', 'X', 'X', 'X', 'X', 'X', 'X', 'X']\n",
      "['X', '_', '_', '_', '_', '_', '_', '_', '_', 'X']\n",
      "['X', '_', '_', '_', '_', '_', '_', 'u', '_', 'X']\n",
      "['X', '_', '_', '_', '_', '_', '_', '_', '_', 'X']\n",
      "['X', '_', '_', '_', '_', '_', '_', '_', '_', 'X']\n",
      "['X', '_', 'e', '_', '_', '_', '_', '_', '_', 'X']\n",
      "['X', '_', '_', '_', '_', '_', '_', '_', '_', 'X']\n",
      "['X', 'X', 'X', 'X', 'X', 'X', 'X', 'X', 'X', 'X']\n",
      "\n",
      "An optimal solution to this maze ['D', 'D', 'D', 'L', 'L', 'L', 'L', 'L']\n"
     ]
    }
   ],
   "source": [
    "mz = Maze() \n",
    "mz.print_maze(small=False)  \n",
    "path = Pathfinder().solve_maze(mz) \n",
    "print()\n",
    "print(\"An optimal solution to this maze\",path) "
   ]
  },
  {
   "cell_type": "code",
   "execution_count": null,
   "metadata": {
    "collapsed": true
   },
   "outputs": [],
   "source": []
  },
  {
   "cell_type": "code",
   "execution_count": null,
   "metadata": {
    "collapsed": true
   },
   "outputs": [],
   "source": []
  },
  {
   "cell_type": "code",
   "execution_count": null,
   "metadata": {
    "collapsed": true
   },
   "outputs": [],
   "source": []
  },
  {
   "cell_type": "code",
   "execution_count": null,
   "metadata": {
    "collapsed": true
   },
   "outputs": [],
   "source": []
  },
  {
   "cell_type": "code",
   "execution_count": null,
   "metadata": {
    "collapsed": true
   },
   "outputs": [],
   "source": []
  },
  {
   "cell_type": "markdown",
   "metadata": {},
   "source": [
    "### Traditional Mazes -- immovable blocks are in the way."
   ]
  },
  {
   "cell_type": "code",
   "execution_count": 8,
   "metadata": {},
   "outputs": [
    {
     "name": "stdout",
     "output_type": "stream",
     "text": [
      "XXXXXXXXXXXXXXXXX\n",
      "X_______________X\n",
      "X________xxxx___X\n",
      "X______x___ux___X\n",
      "X_____x_____x___X\n",
      "X____x___x__x___X\n",
      "X___x__x__x_x___X\n",
      "X____x__x___x___X\n",
      "X_____x_____x___X\n",
      "X___e____x______X\n",
      "X__________x____X\n",
      "X_______________X\n",
      "XXXXXXXXXXXXXXXXX\n"
     ]
    }
   ],
   "source": [
    "mz = Maze(4)\n",
    "mz.print_maze() "
   ]
  },
  {
   "cell_type": "markdown",
   "metadata": {},
   "source": [
    "In order to solve these, we can represent the maze as a graph and implement Breadth First Search (BFS).  We're using this, and not something like Dijkstra's Algorithm, or the well-known improvement on Dijkstra called A*, because it's completely unnecessary.  Those algorithms exist because in many graphs, there are costs associated with different paths.  But if the costs are all the same, you can just BFS or flood fill or however you want to think of it."
   ]
  },
  {
   "cell_type": "markdown",
   "metadata": {},
   "source": [
    "Below, I'll be showing solutions for levels 2 through 9 inclusive, which only contain a player with a start location, one exit, and some immovable blocks."
   ]
  },
  {
   "cell_type": "code",
   "execution_count": 9,
   "metadata": {
    "collapsed": true
   },
   "outputs": [],
   "source": [
    "def show_solution(level=1):\n",
    "    mz = Maze(level)\n",
    "    mz.print_maze() \n",
    "    path = Pathfinder().solve_maze(mz) \n",
    "    print()\n",
    "    print(\"An optimal solution to this maze\",path) "
   ]
  },
  {
   "cell_type": "code",
   "execution_count": 10,
   "metadata": {},
   "outputs": [
    {
     "name": "stdout",
     "output_type": "stream",
     "text": [
      "XXXXXXXXXXXXXXX\n",
      "X_____________X\n",
      "X_____________X\n",
      "X__u___x___e__X\n",
      "X_____________X\n",
      "X_____________X\n",
      "XXXXXXXXXXXXXXX\n",
      "\n",
      "An optimal solution to this maze ['U', 'R', 'R', 'R', 'R', 'R', 'D', 'R', 'R', 'R']\n"
     ]
    }
   ],
   "source": [
    "show_solution(2) "
   ]
  },
  {
   "cell_type": "code",
   "execution_count": 11,
   "metadata": {},
   "outputs": [
    {
     "name": "stdout",
     "output_type": "stream",
     "text": [
      "XXXXXXXXXXX\n",
      "X_________X\n",
      "X_u_______X\n",
      "X____x____X\n",
      "X_______x_X\n",
      "X___xx_x__X\n",
      "X____x____X\n",
      "X______xe_X\n",
      "X_________X\n",
      "XXXXXXXXXXX\n",
      "\n",
      "An optimal solution to this maze ['D', 'D', 'R', 'R', 'R', 'R', 'D', 'D', 'R', 'R', 'D']\n"
     ]
    }
   ],
   "source": [
    "show_solution(3) "
   ]
  },
  {
   "cell_type": "code",
   "execution_count": 12,
   "metadata": {},
   "outputs": [
    {
     "name": "stdout",
     "output_type": "stream",
     "text": [
      "XXXXXXXXXXXXXXXXX\n",
      "X_______________X\n",
      "X________xxxx___X\n",
      "X______x___ux___X\n",
      "X_____x_____x___X\n",
      "X____x___x__x___X\n",
      "X___x__x__x_x___X\n",
      "X____x__x___x___X\n",
      "X_____x_____x___X\n",
      "X___e____x______X\n",
      "X__________x____X\n",
      "X_______________X\n",
      "XXXXXXXXXXXXXXXXX\n",
      "\n",
      "An optimal solution to this maze ['D', 'D', 'D', 'D', 'D', 'L', 'L', 'L', 'D', 'L', 'L', 'L', 'L']\n"
     ]
    }
   ],
   "source": [
    "show_solution(4) "
   ]
  },
  {
   "cell_type": "code",
   "execution_count": 13,
   "metadata": {},
   "outputs": [
    {
     "name": "stdout",
     "output_type": "stream",
     "text": [
      "XXXXXXXXXXXXXXX\n",
      "X_______x_____X\n",
      "X________x_xxxX\n",
      "X______x__x__xX\n",
      "X___xx__x__u_xX\n",
      "X___xx_x__x__xX\n",
      "X__x__x____xxxX\n",
      "Xe___x_x______X\n",
      "X__x__________X\n",
      "X______x______X\n",
      "X_____x_______X\n",
      "X_x___________X\n",
      "XXXXXXXXXXXXXXX\n",
      "\n",
      "An optimal solution to this maze ['L', 'L', 'D', 'D', 'D', 'D', 'L', 'L', 'L', 'L', 'L', 'U', 'L', 'L', 'L']\n"
     ]
    }
   ],
   "source": [
    "show_solution(5) "
   ]
  },
  {
   "cell_type": "code",
   "execution_count": 14,
   "metadata": {},
   "outputs": [
    {
     "name": "stdout",
     "output_type": "stream",
     "text": [
      "XXXXXXXXXXXXXXXXXXXXX\n",
      "X_________x____x____X\n",
      "X____x_x__x_______x_X\n",
      "Xu__x___x__x__x__xx_X\n",
      "X____x_x__x____x_xe_X\n",
      "X______x____x____x__X\n",
      "XXXXXXXXXXXXXXXXXXXXX\n",
      "\n",
      "An optimal solution to this maze ['U', 'U', 'R', 'R', 'R', 'R', 'R', 'R', 'R', 'D', 'R', 'D', 'D', 'D', 'R', 'R', 'U', 'R', 'U', 'U', 'R', 'R', 'R', 'R', 'U', 'R', 'R', 'R', 'D', 'D', 'D', 'L']\n"
     ]
    }
   ],
   "source": [
    "show_solution(6) "
   ]
  },
  {
   "cell_type": "code",
   "execution_count": 15,
   "metadata": {},
   "outputs": [
    {
     "name": "stdout",
     "output_type": "stream",
     "text": [
      "XXXXXXXXXXXXXXXXXXXXXX\n",
      "Xu__________x________X\n",
      "X_______x___x________X\n",
      "X______x____x________X\n",
      "X_____x_____x________X\n",
      "X____x______x________X\n",
      "X___x__xxxxx__xxxxxxxX\n",
      "X__x__x_____________xX\n",
      "X_x_x____x____xxx___xX\n",
      "X_x____x__x_________xX\n",
      "X_x___________xxx___xX\n",
      "X__x___x__x_________xX\n",
      "X_x_x___x__x__xxx___xX\n",
      "X_x__x______x_______xX\n",
      "X_x____x__x___xxxx_xxX\n",
      "X_____x__x____xe____xX\n",
      "XXXXXXXXXXXXXXXXXXXXXX\n",
      "\n",
      "An optimal solution to this maze ['D', 'D', 'D', 'D', 'D', 'D', 'D', 'D', 'D', 'D', 'D', 'D', 'D', 'D', 'R', 'R', 'U', 'R', 'R', 'R', 'U', 'R', 'R', 'R', 'R', 'R', 'D', 'R', 'R', 'U', 'R', 'R', 'R', 'R', 'R', 'D', 'D', 'L', 'L', 'L']\n"
     ]
    }
   ],
   "source": [
    "show_solution(7) "
   ]
  },
  {
   "cell_type": "code",
   "execution_count": 16,
   "metadata": {},
   "outputs": [
    {
     "name": "stdout",
     "output_type": "stream",
     "text": [
      "XXXXXXXXXXXXXXXX\n",
      "Xx__x__x__x__x_X\n",
      "X__x__x_x__x__xX\n",
      "X_x__x___x__x__X\n",
      "Xx_____x__x__x_X\n",
      "X__x___xx__x__xX\n",
      "X_x__x_x__x_x__X\n",
      "Xx______x____x_X\n",
      "X__x_xux__xx__xX\n",
      "X______x_x___x_X\n",
      "Xx_x_x_x__xxx__X\n",
      "Xx__x_x__xxex__X\n",
      "X_x__x_x__x__x_X\n",
      "X_______x__x__xX\n",
      "Xx_x_x_x__x__x_X\n",
      "X_x___x__x__x__X\n",
      "Xx_x_x_x___x__xX\n",
      "XXXXXXXXXXXXXXXX\n",
      "\n",
      "An optimal solution to this maze ['U', 'U', 'U', 'U', 'U', 'R', 'R', 'D', 'R', 'D', 'D', 'D', 'D', 'L', 'D', 'D', 'D', 'D', 'R', 'D', 'D', 'L', 'D', 'D', 'R', 'R', 'U', 'R', 'U', 'R', 'U', 'U', 'L', 'U']\n"
     ]
    }
   ],
   "source": [
    "show_solution(8) "
   ]
  },
  {
   "cell_type": "code",
   "execution_count": 17,
   "metadata": {},
   "outputs": [
    {
     "name": "stdout",
     "output_type": "stream",
     "text": [
      "XXXXXXXXXXXXXXXXXXXXXX\n",
      "Xu__________xx_______X\n",
      "X__________x_x___e___X\n",
      "X____x_x__x__x_x_____X\n",
      "X__xx_x__x___x_x_____X\n",
      "X__xx___x______x_____X\n",
      "X___x__x_x_xx_x______X\n",
      "X_x__x____xx_x_x_____X\n",
      "Xx_____x__xx____x____X\n",
      "X__x__x__x_x_x_x_x___X\n",
      "X____x_x_____x__x_x__X\n",
      "X___x___xxxxx__x_____X\n",
      "X______x_______x_x__xX\n",
      "X____x____________x__X\n",
      "X__________________x_X\n",
      "X____________________X\n",
      "XXXXXXXXXXXXXXXXXXXXXX\n",
      "\n",
      "An optimal solution to this maze ['D', 'D', 'D', 'D', 'D', 'R', 'R', 'D', 'D', 'L', 'D', 'D', 'D', 'D', 'R', 'R', 'R', 'R', 'D', 'R', 'R', 'R', 'R', 'R', 'R', 'R', 'R', 'R', 'R', 'U', 'U', 'R', 'R', 'R', 'U', 'U', 'U', 'U', 'U', 'U', 'U', 'U', 'U', 'L', 'L']\n"
     ]
    }
   ],
   "source": [
    "show_solution(9)  "
   ]
  },
  {
   "cell_type": "code",
   "execution_count": 18,
   "metadata": {},
   "outputs": [
    {
     "name": "stdout",
     "output_type": "stream",
     "text": [
      "Level 1 True\n",
      "Level 2 True\n",
      "Level 3 True\n",
      "Level 4 True\n",
      "Level 5 True\n",
      "Level 6 True\n",
      "Level 7 True\n",
      "Level 8 True\n",
      "Level 9 True\n"
     ]
    }
   ],
   "source": [
    "#Actually checking if the answers are correct for all traditional maze\n",
    "#levels by testing using custom game simulation:\n",
    "for level in range(1,10):\n",
    "    mz = Maze(level) \n",
    "    print(\"Level\",level,mz.check_win_from_list(Pathfinder().solve_maze(mz))) "
   ]
  },
  {
   "cell_type": "markdown",
   "metadata": {},
   "source": [
    "### Mazes With Movable Blocks\n",
    "\n",
    "These Start off about as easy as regular mazes, if not easier, but become extremely interesting in the late 40s of this game, requiring retracing your steps after altering the positions of certain blocks to make new areas accessible.\n",
    "\n",
    "---\n",
    "The first thing that occurs to me is this repetitive approach:  \n",
    "1) bfs_path, treating movable blocks like empty space  \n",
    "2) do moves in your bfs path until you move a movable block  \n",
    "3) update the board, converting movable blocks that have become immovable to immovable blocks  \n",
    "4) start over / repeat until win\n",
    "\n",
    "There is an issue here where movable blocks may only be immovable from certain directions\n",
    "\n",
    "This means that I may have to create some kind of object for \"p\" and \"P\" so that they can be updated whenever a block is moved.  They should also be treated differently by bfs.  It's not \"immovable\" or \"movable\".  It's more like \"accessible from here\", but \"not accessible from there\", and so this is just another thing the graph has to account for.\n",
    "\n",
    "With this approach, looking ahead becomes necessary, because while something is accessible now, it might not be accessible later.\n",
    "\n",
    "It feels like it's still going to be subject to issues with combinatorics...\n",
    "\n",
    "---\n",
    "\n",
    "It might be interesting to try reinforcement learning.  A bunch of neural networks with different rewards.\n",
    "\n",
    "The trickiest thing about that is... what's a good reward?\n",
    "\n",
    "In the sidescroller, Mario, it's fairly trivial.  HOW FAR TO THE RIGHT DID YOU GET?  That's a good reward.\n",
    "\n",
    "But in these mazes with movable and immovable blocks, distance from the exit, while still something that should be a factor, isn't the whole story.\n",
    "\n",
    "Maybe another good one is how much of the map you have explored.  It will be interesting to try this."
   ]
  },
  {
   "cell_type": "markdown",
   "metadata": {},
   "source": [
    "###"
   ]
  },
  {
   "cell_type": "markdown",
   "metadata": {},
   "source": [
    "The first few maps will probably be easy because distance from the exit will be enough."
   ]
  },
  {
   "cell_type": "code",
   "execution_count": 19,
   "metadata": {
    "collapsed": true
   },
   "outputs": [],
   "source": [
    "import keras\n",
    "\n",
    "import numpy as np\n",
    "import pandas as pd\n",
    "import matplotlib.pyplot as plt\n",
    "%matplotlib inline"
   ]
  },
  {
   "cell_type": "code",
   "execution_count": 22,
   "metadata": {
    "collapsed": true
   },
   "outputs": [],
   "source": [
    "model = keras.models.Sequential()\n",
    "for _ in range(2):\n",
    "    model.add(keras.layers.Dense(64,activation=\"relu\"))\n",
    "model.add(keras.layers.Dense(10,activation=\"softmax\")) #sigmoid also good / very similar\n",
    "\n",
    "model.compile(optimizer=\"adam\",loss=\"sparse_categorical_crossentropy\",metrics=['accuracy'])\n",
    "\n",
    "#model.fit(X_train,y_train,epochs=2) "
   ]
  },
  {
   "cell_type": "code",
   "execution_count": null,
   "metadata": {
    "collapsed": true
   },
   "outputs": [],
   "source": []
  },
  {
   "cell_type": "code",
   "execution_count": null,
   "metadata": {
    "collapsed": true
   },
   "outputs": [],
   "source": []
  },
  {
   "cell_type": "code",
   "execution_count": null,
   "metadata": {
    "collapsed": true
   },
   "outputs": [],
   "source": []
  },
  {
   "cell_type": "code",
   "execution_count": null,
   "metadata": {
    "collapsed": true
   },
   "outputs": [],
   "source": []
  },
  {
   "cell_type": "code",
   "execution_count": null,
   "metadata": {
    "collapsed": true
   },
   "outputs": [],
   "source": []
  },
  {
   "cell_type": "code",
   "execution_count": null,
   "metadata": {
    "collapsed": true
   },
   "outputs": [],
   "source": []
  },
  {
   "cell_type": "code",
   "execution_count": null,
   "metadata": {
    "collapsed": true
   },
   "outputs": [],
   "source": []
  },
  {
   "cell_type": "code",
   "execution_count": null,
   "metadata": {
    "collapsed": true
   },
   "outputs": [],
   "source": []
  },
  {
   "cell_type": "code",
   "execution_count": null,
   "metadata": {
    "collapsed": true
   },
   "outputs": [],
   "source": []
  },
  {
   "cell_type": "code",
   "execution_count": null,
   "metadata": {
    "collapsed": true
   },
   "outputs": [],
   "source": []
  },
  {
   "cell_type": "code",
   "execution_count": null,
   "metadata": {
    "collapsed": true
   },
   "outputs": [],
   "source": []
  },
  {
   "cell_type": "code",
   "execution_count": null,
   "metadata": {
    "collapsed": true
   },
   "outputs": [],
   "source": []
  },
  {
   "cell_type": "code",
   "execution_count": null,
   "metadata": {
    "collapsed": true
   },
   "outputs": [],
   "source": []
  },
  {
   "cell_type": "code",
   "execution_count": null,
   "metadata": {
    "collapsed": true
   },
   "outputs": [],
   "source": []
  },
  {
   "cell_type": "code",
   "execution_count": null,
   "metadata": {
    "collapsed": true
   },
   "outputs": [],
   "source": []
  },
  {
   "cell_type": "code",
   "execution_count": null,
   "metadata": {
    "collapsed": true
   },
   "outputs": [],
   "source": []
  },
  {
   "cell_type": "code",
   "execution_count": null,
   "metadata": {
    "collapsed": true
   },
   "outputs": [],
   "source": []
  },
  {
   "cell_type": "code",
   "execution_count": null,
   "metadata": {
    "collapsed": true
   },
   "outputs": [],
   "source": []
  },
  {
   "cell_type": "code",
   "execution_count": null,
   "metadata": {
    "collapsed": true
   },
   "outputs": [],
   "source": []
  },
  {
   "cell_type": "code",
   "execution_count": null,
   "metadata": {
    "collapsed": true
   },
   "outputs": [],
   "source": []
  },
  {
   "cell_type": "code",
   "execution_count": null,
   "metadata": {
    "collapsed": true
   },
   "outputs": [],
   "source": []
  },
  {
   "cell_type": "code",
   "execution_count": null,
   "metadata": {
    "collapsed": true
   },
   "outputs": [],
   "source": []
  },
  {
   "cell_type": "code",
   "execution_count": null,
   "metadata": {
    "collapsed": true
   },
   "outputs": [],
   "source": []
  },
  {
   "cell_type": "code",
   "execution_count": null,
   "metadata": {
    "collapsed": true
   },
   "outputs": [],
   "source": []
  },
  {
   "cell_type": "code",
   "execution_count": null,
   "metadata": {
    "collapsed": true
   },
   "outputs": [],
   "source": []
  },
  {
   "cell_type": "code",
   "execution_count": null,
   "metadata": {
    "collapsed": true
   },
   "outputs": [],
   "source": []
  }
 ],
 "metadata": {
  "kernelspec": {
   "display_name": "Python 3",
   "language": "python",
   "name": "python3"
  },
  "language_info": {
   "codemirror_mode": {
    "name": "ipython",
    "version": 3
   },
   "file_extension": ".py",
   "mimetype": "text/x-python",
   "name": "python",
   "nbconvert_exporter": "python",
   "pygments_lexer": "ipython3",
   "version": "3.6.1"
  }
 },
 "nbformat": 4,
 "nbformat_minor": 2
}
